{
 "cells": [
  {
   "cell_type": "code",
   "execution_count": null,
   "metadata": {},
   "outputs": [],
   "source": [
    "import numpy as np\n",
    "import random"
   ]
  },
  {
   "cell_type": "code",
   "execution_count": null,
   "metadata": {},
   "outputs": [],
   "source": [
    "# Gerando alfabeto em one hot.\n",
    "\n",
    "alphabet = \"A B C Ç D E F G H I J K L M N O P Q R S T U V W X Y Z\"\n",
    "alphabet = alphabet.lower().split(\" \") + [\" \"]\n",
    "t_alfa = len(alphabet)\n",
    "one_hot_alphabet = {}\n",
    "\n",
    "for i in range(t_alfa):\n",
    "    matriz_letra = []\n",
    "    for j in range(t_alfa):\n",
    "        if j == i:\n",
    "            matriz_letra.append(1)\n",
    "        else: \n",
    "            matriz_letra.append(0)\n",
    "        \n",
    "    matriz_letra = np.array(matriz_letra)\n",
    "    one_hot_alphabet[alphabet[i]] = matriz_letra"
   ]
  },
  {
   "cell_type": "code",
   "execution_count": null,
   "metadata": {},
   "outputs": [],
   "source": [
    "# Transforma letras em one_hot code.\n",
    "\n",
    "def para_one_hot(mensagem:str):\n",
    "    one_hot_msg = []\n",
    "    for caracter in mensagem:\n",
    "        caracter = caracter.lower()\n",
    "        if caracter in alphabet:\n",
    "            one_hot_msg.append(one_hot_alphabet[caracter])\n",
    "        else:\n",
    "            one_hot_msg.append(one_hot_alphabet[len(one_hot_alphabet)-1])\n",
    "\n",
    "    return one_hot_msg"
   ]
  },
  {
   "cell_type": "code",
   "execution_count": null,
   "metadata": {},
   "outputs": [],
   "source": [
    "# Transforma one_hot code em letras\n",
    "\n",
    "def para_string(one_hot_msg:np.array):\n",
    "    msg = \"\"\n",
    "    decode = {str(v):k for k,v in one_hot_alphabet.items()}\n",
    "    for matriz in one_hot_msg:\n",
    "        msg += decode[str(matriz)]\n",
    "    return msg\n"
   ]
  },
  {
   "cell_type": "code",
   "execution_count": null,
   "metadata": {},
   "outputs": [],
   "source": [
    "# Testing Cell :\n",
    "\n",
    "msg = \"hello world\"\n",
    "print(msg)\n",
    "msg = para_one_hot(msg)\n",
    "msg = para_string(msg)\n",
    "print(msg)"
   ]
  },
  {
   "cell_type": "code",
   "execution_count": null,
   "metadata": {},
   "outputs": [],
   "source": [
    "def gera_cifra(alphabet):\n",
    "    tamanho = len(alphabet)\n",
    "    identidade = np.eye(tamanho)\n",
    "    L = random.shuffle(list(range(tamanho)))\n",
    "    cifra = identidade [ L, :]\n",
    "    return cifra\n",
    "\n",
    "\n",
    "def cifrar(msg:str, cifra:np.array):\n",
    "    one_hot_cifrado = []\n",
    "\n",
    "    for caracter in para_one_hot(msg):\n",
    "        one_hot_cifrado.append(caracter@cifra)\n",
    "    print(one_hot_cifrado)\n",
    "    msg_cifrada = para_string(one_hot_cifrado)\n",
    "    \n",
    "    return msg_cifrada\n"
   ]
  },
  {
   "cell_type": "code",
   "execution_count": null,
   "metadata": {},
   "outputs": [],
   "source": [
    "# teste 2 ; tem algo errado\n",
    "\n",
    "# cifrar(\"abcd\",gera_cifra(alphabet))\n",
    "msg = \"abcd e\"\n",
    "cifra = gera_cifra(alphabet)\n",
    "oh_msg = para_one_hot(msg)\n",
    "one_hot_cifrado = []\n",
    "# for caracter in para_one_hot(msg):\n",
    "#     one_hot_cifrado.append(cifra@caracter)\n",
    "\n",
    "# for caracter in one_hot_cifrado:\n",
    "#     print(caracter)"
   ]
  }
 ],
 "metadata": {
  "kernelspec": {
   "display_name": "Python 3",
   "language": "python",
   "name": "python3"
  },
  "language_info": {
   "codemirror_mode": {
    "name": "ipython",
    "version": 3
   },
   "file_extension": ".py",
   "mimetype": "text/x-python",
   "name": "python",
   "nbconvert_exporter": "python",
   "pygments_lexer": "ipython3",
   "version": "3.10.3"
  },
  "orig_nbformat": 4,
  "vscode": {
   "interpreter": {
    "hash": "f93bff822687b96a1f2d7798e86ce2bae52c1bd6ece06dfb8c6e65b6bce06fb2"
   }
  }
 },
 "nbformat": 4,
 "nbformat_minor": 2
}
