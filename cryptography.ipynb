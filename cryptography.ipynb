{
 "cells": [
  {
   "cell_type": "code",
   "execution_count": 2,
   "metadata": {},
   "outputs": [],
   "source": [
    "import numpy as np\n",
    "import random"
   ]
  },
  {
   "cell_type": "code",
   "execution_count": 19,
   "metadata": {},
   "outputs": [],
   "source": [
    "# Gerando alfabeto em one hot.\n",
    "\n",
    "alphabet = \"A B C D E F G H I J K L M N O P Q R S T U V W X Y Z\"\n",
    "#alphabet = \"A B C\"\n",
    "alphabet = alphabet.lower().split(\" \") + [\" \"]\n",
    "t_alfa = len(alphabet)\n",
    "one_hot_alphabet = {}\n",
    "\n",
    "for i in range(t_alfa):\n",
    "    matriz_letra = []\n",
    "    for j in range(t_alfa):\n",
    "        if j == i:\n",
    "            matriz_letra.append(1)\n",
    "        else: \n",
    "            matriz_letra.append(0)\n",
    "        \n",
    "    matriz_letra = np.array(matriz_letra)\n",
    "    one_hot_alphabet[alphabet[i]] = matriz_letra"
   ]
  },
  {
   "cell_type": "code",
   "execution_count": 4,
   "metadata": {},
   "outputs": [
    {
     "name": "stdout",
     "output_type": "stream",
     "text": [
      "[array([1, 0, 0, 0]), array([0, 1, 0, 0]), array([0, 0, 1, 0])]\n"
     ]
    }
   ],
   "source": [
    "# Transforma letras em one_hot code.\n",
    "\n",
    "def para_one_hot(msg:str):\n",
    "    one_hot_msg = []\n",
    "    for character in msg:\n",
    "        character = character.lower()\n",
    "        if character in alphabet:\n",
    "            one_hot_msg.append(one_hot_alphabet[character])\n",
    "        else:\n",
    "            one_hot_msg.append(one_hot_alphabet[len(one_hot_alphabet)-1])\n",
    "\n",
    "    return one_hot_msg\n",
    "\n",
    "print(para_one_hot(\"abc\"))"
   ]
  },
  {
   "cell_type": "code",
   "execution_count": 5,
   "metadata": {},
   "outputs": [
    {
     "name": "stdout",
     "output_type": "stream",
     "text": [
      "{'[1 0 0 0]': 'a', '[0 1 0 0]': 'b', '[0 0 1 0]': 'c', '[0 0 0 1]': ' '}\n",
      "[1, 0, 0, 0]\n"
     ]
    },
    {
     "ename": "KeyError",
     "evalue": "'[1, 0, 0, 0]'",
     "output_type": "error",
     "traceback": [
      "\u001b[1;31m---------------------------------------------------------------------------\u001b[0m",
      "\u001b[1;31mKeyError\u001b[0m                                  Traceback (most recent call last)",
      "\u001b[1;32mc:\\Users\\pache\\OneDrive\\Desktop\\Documents\\Insper\\computacao\\3semestre\\alglin\\APS2\\cryptography-project\\cryptography.ipynb Cell 4\u001b[0m in \u001b[0;36m1\n\u001b[0;32m      <a href='vscode-notebook-cell:/c%3A/Users/pache/OneDrive/Desktop/Documents/Insper/computacao/3semestre/alglin/APS2/cryptography-project/cryptography.ipynb#W3sZmlsZQ%3D%3D?line=8'>9</a>\u001b[0m         msg \u001b[39m+\u001b[39m\u001b[39m=\u001b[39m decode[\u001b[39mstr\u001b[39m(matriz)]\n\u001b[0;32m     <a href='vscode-notebook-cell:/c%3A/Users/pache/OneDrive/Desktop/Documents/Insper/computacao/3semestre/alglin/APS2/cryptography-project/cryptography.ipynb#W3sZmlsZQ%3D%3D?line=9'>10</a>\u001b[0m     \u001b[39mreturn\u001b[39;00m msg\n\u001b[1;32m---> <a href='vscode-notebook-cell:/c%3A/Users/pache/OneDrive/Desktop/Documents/Insper/computacao/3semestre/alglin/APS2/cryptography-project/cryptography.ipynb#W3sZmlsZQ%3D%3D?line=11'>12</a>\u001b[0m \u001b[39mprint\u001b[39m(para_string([\n\u001b[0;32m     <a href='vscode-notebook-cell:/c%3A/Users/pache/OneDrive/Desktop/Documents/Insper/computacao/3semestre/alglin/APS2/cryptography-project/cryptography.ipynb#W3sZmlsZQ%3D%3D?line=12'>13</a>\u001b[0m     [\u001b[39m1\u001b[39m,\u001b[39m0\u001b[39m,\u001b[39m0\u001b[39m,\u001b[39m0\u001b[39m],\n\u001b[0;32m     <a href='vscode-notebook-cell:/c%3A/Users/pache/OneDrive/Desktop/Documents/Insper/computacao/3semestre/alglin/APS2/cryptography-project/cryptography.ipynb#W3sZmlsZQ%3D%3D?line=13'>14</a>\u001b[0m     [\u001b[39m0\u001b[39m,\u001b[39m1\u001b[39m,\u001b[39m0\u001b[39m,\u001b[39m0\u001b[39m],\n\u001b[0;32m     <a href='vscode-notebook-cell:/c%3A/Users/pache/OneDrive/Desktop/Documents/Insper/computacao/3semestre/alglin/APS2/cryptography-project/cryptography.ipynb#W3sZmlsZQ%3D%3D?line=14'>15</a>\u001b[0m     [\u001b[39m0\u001b[39m,\u001b[39m0\u001b[39m,\u001b[39m1\u001b[39m,\u001b[39m0\u001b[39m],\n\u001b[0;32m     <a href='vscode-notebook-cell:/c%3A/Users/pache/OneDrive/Desktop/Documents/Insper/computacao/3semestre/alglin/APS2/cryptography-project/cryptography.ipynb#W3sZmlsZQ%3D%3D?line=15'>16</a>\u001b[0m     [\u001b[39m0\u001b[39m,\u001b[39m0\u001b[39m,\u001b[39m0\u001b[39m,\u001b[39m1\u001b[39m],\n\u001b[0;32m     <a href='vscode-notebook-cell:/c%3A/Users/pache/OneDrive/Desktop/Documents/Insper/computacao/3semestre/alglin/APS2/cryptography-project/cryptography.ipynb#W3sZmlsZQ%3D%3D?line=16'>17</a>\u001b[0m ]))\n",
      "\u001b[1;32mc:\\Users\\pache\\OneDrive\\Desktop\\Documents\\Insper\\computacao\\3semestre\\alglin\\APS2\\cryptography-project\\cryptography.ipynb Cell 4\u001b[0m in \u001b[0;36m9\n\u001b[0;32m      <a href='vscode-notebook-cell:/c%3A/Users/pache/OneDrive/Desktop/Documents/Insper/computacao/3semestre/alglin/APS2/cryptography-project/cryptography.ipynb#W3sZmlsZQ%3D%3D?line=6'>7</a>\u001b[0m \u001b[39mfor\u001b[39;00m matriz \u001b[39min\u001b[39;00m one_hot_msg:\n\u001b[0;32m      <a href='vscode-notebook-cell:/c%3A/Users/pache/OneDrive/Desktop/Documents/Insper/computacao/3semestre/alglin/APS2/cryptography-project/cryptography.ipynb#W3sZmlsZQ%3D%3D?line=7'>8</a>\u001b[0m     \u001b[39mprint\u001b[39m(matriz)\n\u001b[1;32m----> <a href='vscode-notebook-cell:/c%3A/Users/pache/OneDrive/Desktop/Documents/Insper/computacao/3semestre/alglin/APS2/cryptography-project/cryptography.ipynb#W3sZmlsZQ%3D%3D?line=8'>9</a>\u001b[0m     msg \u001b[39m+\u001b[39m\u001b[39m=\u001b[39m decode[\u001b[39mstr\u001b[39;49m(matriz)]\n\u001b[0;32m     <a href='vscode-notebook-cell:/c%3A/Users/pache/OneDrive/Desktop/Documents/Insper/computacao/3semestre/alglin/APS2/cryptography-project/cryptography.ipynb#W3sZmlsZQ%3D%3D?line=9'>10</a>\u001b[0m \u001b[39mreturn\u001b[39;00m msg\n",
      "\u001b[1;31mKeyError\u001b[0m: '[1, 0, 0, 0]'"
     ]
    }
   ],
   "source": [
    "# Transforma one_hot code em letras\n",
    "\n",
    "def para_string(one_hot_msg:np.array):\n",
    "    msg = \"\"\n",
    "    decode = {str(v):k for k,v in one_hot_alphabet.items()}\n",
    "    print(decode)\n",
    "    for matriz in one_hot_msg:\n",
    "        print(matriz)\n",
    "        msg += decode[str(matriz)]\n",
    "    return msg\n",
    "\n",
    "print(para_string([\n",
    "    [1,0,0,0],\n",
    "    [0,1,0,0],\n",
    "    [0,0,1,0],\n",
    "    [0,0,0,1],\n",
    "]))"
   ]
  },
  {
   "cell_type": "code",
   "execution_count": null,
   "metadata": {},
   "outputs": [
    {
     "name": "stdout",
     "output_type": "stream",
     "text": [
      "hello world\n"
     ]
    },
    {
     "ename": "KeyError",
     "evalue": "3",
     "output_type": "error",
     "traceback": [
      "\u001b[1;31m---------------------------------------------------------------------------\u001b[0m",
      "\u001b[1;31mKeyError\u001b[0m                                  Traceback (most recent call last)",
      "\u001b[1;32mc:\\Users\\pache\\OneDrive\\Desktop\\Documents\\Insper\\computacao\\3semestre\\alglin\\APS2\\cryptography-project\\cryptography.ipynb Cell 5\u001b[0m in \u001b[0;36m5\n\u001b[0;32m      <a href='vscode-notebook-cell:/c%3A/Users/pache/OneDrive/Desktop/Documents/Insper/computacao/3semestre/alglin/APS2/cryptography-project/cryptography.ipynb#W4sZmlsZQ%3D%3D?line=2'>3</a>\u001b[0m msg \u001b[39m=\u001b[39m \u001b[39m\"\u001b[39m\u001b[39mhello world\u001b[39m\u001b[39m\"\u001b[39m\n\u001b[0;32m      <a href='vscode-notebook-cell:/c%3A/Users/pache/OneDrive/Desktop/Documents/Insper/computacao/3semestre/alglin/APS2/cryptography-project/cryptography.ipynb#W4sZmlsZQ%3D%3D?line=3'>4</a>\u001b[0m \u001b[39mprint\u001b[39m(msg)\n\u001b[1;32m----> <a href='vscode-notebook-cell:/c%3A/Users/pache/OneDrive/Desktop/Documents/Insper/computacao/3semestre/alglin/APS2/cryptography-project/cryptography.ipynb#W4sZmlsZQ%3D%3D?line=4'>5</a>\u001b[0m msg \u001b[39m=\u001b[39m para_one_hot(msg)\n\u001b[0;32m      <a href='vscode-notebook-cell:/c%3A/Users/pache/OneDrive/Desktop/Documents/Insper/computacao/3semestre/alglin/APS2/cryptography-project/cryptography.ipynb#W4sZmlsZQ%3D%3D?line=5'>6</a>\u001b[0m msg \u001b[39m=\u001b[39m para_string(msg)\n\u001b[0;32m      <a href='vscode-notebook-cell:/c%3A/Users/pache/OneDrive/Desktop/Documents/Insper/computacao/3semestre/alglin/APS2/cryptography-project/cryptography.ipynb#W4sZmlsZQ%3D%3D?line=6'>7</a>\u001b[0m \u001b[39mprint\u001b[39m(msg)\n",
      "\u001b[1;32mc:\\Users\\pache\\OneDrive\\Desktop\\Documents\\Insper\\computacao\\3semestre\\alglin\\APS2\\cryptography-project\\cryptography.ipynb Cell 5\u001b[0m in \u001b[0;36m1\n\u001b[0;32m      <a href='vscode-notebook-cell:/c%3A/Users/pache/OneDrive/Desktop/Documents/Insper/computacao/3semestre/alglin/APS2/cryptography-project/cryptography.ipynb#W4sZmlsZQ%3D%3D?line=7'>8</a>\u001b[0m         one_hot_msg\u001b[39m.\u001b[39mappend(one_hot_alphabet[character])\n\u001b[0;32m      <a href='vscode-notebook-cell:/c%3A/Users/pache/OneDrive/Desktop/Documents/Insper/computacao/3semestre/alglin/APS2/cryptography-project/cryptography.ipynb#W4sZmlsZQ%3D%3D?line=8'>9</a>\u001b[0m     \u001b[39melse\u001b[39;00m:\n\u001b[1;32m---> <a href='vscode-notebook-cell:/c%3A/Users/pache/OneDrive/Desktop/Documents/Insper/computacao/3semestre/alglin/APS2/cryptography-project/cryptography.ipynb#W4sZmlsZQ%3D%3D?line=9'>10</a>\u001b[0m         one_hot_msg\u001b[39m.\u001b[39mappend(one_hot_alphabet[\u001b[39mlen\u001b[39;49m(one_hot_alphabet)\u001b[39m-\u001b[39;49m\u001b[39m1\u001b[39;49m])\n\u001b[0;32m     <a href='vscode-notebook-cell:/c%3A/Users/pache/OneDrive/Desktop/Documents/Insper/computacao/3semestre/alglin/APS2/cryptography-project/cryptography.ipynb#W4sZmlsZQ%3D%3D?line=11'>12</a>\u001b[0m \u001b[39mreturn\u001b[39;00m one_hot_msg\n",
      "\u001b[1;31mKeyError\u001b[0m: 3"
     ]
    }
   ],
   "source": [
    "# Testing Cell :\n",
    "\n",
    "msg = \"hello world\"\n",
    "print(msg)\n",
    "msg = para_one_hot(msg)\n",
    "msg = para_string(msg)\n",
    "print(msg)"
   ]
  },
  {
   "cell_type": "code",
   "execution_count": 6,
   "metadata": {},
   "outputs": [],
   "source": [
    "def gera_cifra(alphabet):\n",
    "    tamanho = len(alphabet)\n",
    "    identidade = np.eye(tamanho)\n",
    "    L = np.random.permutation(list(range(tamanho)))\n",
    "    cifra = identidade[L, :]\n",
    "    print(cifra)\n",
    "    return cifra\n",
    "\n",
    "\n",
    "def cifrar(msg:str, cifra:np.array):\n",
    "    one_hot_cifrado = []\n",
    "\n",
    "    for character in para_one_hot(msg):\n",
    "        one_hot_cifrado.append(character@cifra)\n",
    "    print(one_hot_cifrado)\n",
    "    msg_cifrada = para_string(one_hot_cifrado)\n",
    "    \n",
    "    return msg_cifrada\n"
   ]
  },
  {
   "cell_type": "code",
   "execution_count": 20,
   "metadata": {},
   "outputs": [
    {
     "data": {
      "text/plain": [
       "array([[0., 0., 0., 0., 0., 0., 0., 0., 0., 0., 0., 1., 0., 0., 0., 0.,\n",
       "        0., 0., 0., 0., 0., 0., 0., 0., 0., 0., 0.],\n",
       "       [0., 0., 0., 0., 0., 0., 0., 0., 0., 0., 0., 0., 0., 0., 0., 0.,\n",
       "        0., 0., 0., 1., 0., 0., 0., 0., 0., 0., 0.],\n",
       "       [0., 0., 0., 0., 0., 0., 0., 1., 0., 0., 0., 0., 0., 0., 0., 0.,\n",
       "        0., 0., 0., 0., 0., 0., 0., 0., 0., 0., 0.],\n",
       "       [0., 0., 0., 0., 0., 0., 0., 0., 1., 0., 0., 0., 0., 0., 0., 0.,\n",
       "        0., 0., 0., 0., 0., 0., 0., 0., 0., 0., 0.],\n",
       "       [0., 0., 0., 0., 0., 0., 0., 0., 0., 0., 0., 0., 0., 0., 0., 0.,\n",
       "        0., 0., 0., 0., 1., 0., 0., 0., 0., 0., 0.],\n",
       "       [0., 0., 0., 0., 0., 0., 0., 0., 0., 0., 0., 0., 0., 0., 0., 0.,\n",
       "        0., 0., 0., 0., 0., 1., 0., 0., 0., 0., 0.],\n",
       "       [0., 0., 0., 0., 0., 0., 0., 0., 0., 0., 0., 0., 0., 0., 0., 0.,\n",
       "        0., 0., 0., 0., 0., 0., 0., 1., 0., 0., 0.],\n",
       "       [0., 0., 0., 0., 0., 0., 0., 0., 0., 1., 0., 0., 0., 0., 0., 0.,\n",
       "        0., 0., 0., 0., 0., 0., 0., 0., 0., 0., 0.],\n",
       "       [0., 0., 0., 0., 0., 0., 0., 0., 0., 0., 0., 0., 1., 0., 0., 0.,\n",
       "        0., 0., 0., 0., 0., 0., 0., 0., 0., 0., 0.],\n",
       "       [0., 0., 0., 0., 0., 0., 0., 0., 0., 0., 0., 0., 0., 0., 0., 0.,\n",
       "        0., 1., 0., 0., 0., 0., 0., 0., 0., 0., 0.],\n",
       "       [0., 0., 0., 0., 0., 0., 0., 0., 0., 0., 0., 0., 0., 0., 0., 0.,\n",
       "        1., 0., 0., 0., 0., 0., 0., 0., 0., 0., 0.],\n",
       "       [0., 0., 0., 0., 0., 0., 0., 0., 0., 0., 0., 0., 0., 1., 0., 0.,\n",
       "        0., 0., 0., 0., 0., 0., 0., 0., 0., 0., 0.],\n",
       "       [0., 0., 0., 0., 0., 0., 1., 0., 0., 0., 0., 0., 0., 0., 0., 0.,\n",
       "        0., 0., 0., 0., 0., 0., 0., 0., 0., 0., 0.],\n",
       "       [0., 0., 0., 0., 0., 0., 0., 0., 0., 0., 0., 0., 0., 0., 0., 0.,\n",
       "        0., 0., 0., 0., 0., 0., 1., 0., 0., 0., 0.],\n",
       "       [0., 1., 0., 0., 0., 0., 0., 0., 0., 0., 0., 0., 0., 0., 0., 0.,\n",
       "        0., 0., 0., 0., 0., 0., 0., 0., 0., 0., 0.],\n",
       "       [0., 0., 0., 0., 0., 0., 0., 0., 0., 0., 0., 0., 0., 0., 0., 0.,\n",
       "        0., 0., 0., 0., 0., 0., 0., 0., 0., 1., 0.],\n",
       "       [0., 0., 0., 0., 1., 0., 0., 0., 0., 0., 0., 0., 0., 0., 0., 0.,\n",
       "        0., 0., 0., 0., 0., 0., 0., 0., 0., 0., 0.],\n",
       "       [0., 0., 0., 0., 0., 0., 0., 0., 0., 0., 0., 0., 0., 0., 0., 0.,\n",
       "        0., 0., 0., 0., 0., 0., 0., 0., 0., 0., 1.],\n",
       "       [0., 0., 1., 0., 0., 0., 0., 0., 0., 0., 0., 0., 0., 0., 0., 0.,\n",
       "        0., 0., 0., 0., 0., 0., 0., 0., 0., 0., 0.],\n",
       "       [0., 0., 0., 0., 0., 0., 0., 0., 0., 0., 1., 0., 0., 0., 0., 0.,\n",
       "        0., 0., 0., 0., 0., 0., 0., 0., 0., 0., 0.],\n",
       "       [1., 0., 0., 0., 0., 0., 0., 0., 0., 0., 0., 0., 0., 0., 0., 0.,\n",
       "        0., 0., 0., 0., 0., 0., 0., 0., 0., 0., 0.],\n",
       "       [0., 0., 0., 0., 0., 1., 0., 0., 0., 0., 0., 0., 0., 0., 0., 0.,\n",
       "        0., 0., 0., 0., 0., 0., 0., 0., 0., 0., 0.],\n",
       "       [0., 0., 0., 1., 0., 0., 0., 0., 0., 0., 0., 0., 0., 0., 0., 0.,\n",
       "        0., 0., 0., 0., 0., 0., 0., 0., 0., 0., 0.],\n",
       "       [0., 0., 0., 0., 0., 0., 0., 0., 0., 0., 0., 0., 0., 0., 0., 0.,\n",
       "        0., 0., 0., 0., 0., 0., 0., 0., 1., 0., 0.],\n",
       "       [0., 0., 0., 0., 0., 0., 0., 0., 0., 0., 0., 0., 0., 0., 1., 0.,\n",
       "        0., 0., 0., 0., 0., 0., 0., 0., 0., 0., 0.],\n",
       "       [0., 0., 0., 0., 0., 0., 0., 0., 0., 0., 0., 0., 0., 0., 0., 1.,\n",
       "        0., 0., 0., 0., 0., 0., 0., 0., 0., 0., 0.],\n",
       "       [0., 0., 0., 0., 0., 0., 0., 0., 0., 0., 0., 0., 0., 0., 0., 0.,\n",
       "        0., 0., 1., 0., 0., 0., 0., 0., 0., 0., 0.]])"
      ]
     },
     "execution_count": 20,
     "metadata": {},
     "output_type": "execute_result"
    }
   ],
   "source": [
    "# teste 2 ; tem algo errado\n",
    "\n",
    "gera_cifra(alphabet)\n",
    "\n",
    "#cifrar(\"abcd\",gera_cifra(alphabet))\n",
    "\n",
    "#msg = \"abcd e\"\n",
    "#cifra = gera_cifra(alphabet)\n",
    "#oh_msg = para_one_hot(msg)\n",
    "#one_hot_cifrado = []\n",
    "#for character in para_one_hot(msg):\n",
    "#    one_hot_cifrado.append(cifra@character)\n",
    "\n",
    "#for character in one_hot_cifrado:\n",
    "#    print(character)"
   ]
  }
 ],
 "metadata": {
  "kernelspec": {
   "display_name": "Python 3",
   "language": "python",
   "name": "python3"
  },
  "language_info": {
   "codemirror_mode": {
    "name": "ipython",
    "version": 3
   },
   "file_extension": ".py",
   "mimetype": "text/x-python",
   "name": "python",
   "nbconvert_exporter": "python",
   "pygments_lexer": "ipython3",
   "version": "3.10.10"
  },
  "orig_nbformat": 4,
  "vscode": {
   "interpreter": {
    "hash": "f93bff822687b96a1f2d7798e86ce2bae52c1bd6ece06dfb8c6e65b6bce06fb2"
   }
  }
 },
 "nbformat": 4,
 "nbformat_minor": 2
}
