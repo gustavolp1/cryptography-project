{
 "cells": [
  {
   "cell_type": "markdown",
   "metadata": {},
   "source": [
    "\n",
    "\n",
    "# Projeto: criptografia com clone digital da máquina Enigma"
   ]
  },
  {
   "cell_type": "markdown",
   "metadata": {},
   "source": [
    "A ideia de enviar mensagens que não podem ser interceptadas é muito antiga. Uma das técnicas mais antigas para isso é a [cifra de substituição](https://pt.wikipedia.org/wiki/Cifra_de_substitui%C3%A7%C3%A3o), que consiste em trocar as letras da mensagem de entrada por outras letra do alfabeto. Essa é uma técnica simples, cujo processo para codificação e decodificação é essencialmente o mesmo. Ele pode ser implementada como no algoritmo abaixo:"
   ]
  },
  {
   "cell_type": "code",
   "execution_count": 19,
   "metadata": {},
   "outputs": [
    {
     "name": "stdout",
     "output_type": "stream",
     "text": [
      "oaco oaefadiodo btfagjdbaprontoaqubtroaiorbsaebatbref\n",
      "o bolo de chocolate fica pronto quatro horas da tarde\n"
     ]
    }
   ],
   "source": [
    "alfabeto_normal = \"abcdefghijklmnopqrstuvwxyz \"\n",
    "alfabeto_cifrado = \"bcdefghijkl mnopqrstuvwxyza\"\n",
    "mensagem_entrada = \"o bolo de chocolate fica pronto quatro horas da tarde\"\n",
    "\n",
    "def cifrar(mensagem_entrada, alfabeto_normal, alfabeto_cifrado):\n",
    "    mensagem_cifrada = \"\"\n",
    "    for i in range(len(mensagem_entrada)):\n",
    "        c = mensagem_entrada[i]\n",
    "        idx = alfabeto_normal.index(c)\n",
    "        mensagem_cifrada += alfabeto_cifrado[idx]\n",
    "    return mensagem_cifrada\n",
    "\n",
    "mensagem_cifrada = cifrar(mensagem_entrada, alfabeto_normal, alfabeto_cifrado)\n",
    "mensagem_recuperada = cifrar(mensagem_cifrada, alfabeto_cifrado, alfabeto_normal)\n",
    "\n",
    "print(mensagem_cifrada)\n",
    "print(mensagem_recuperada)"
   ]
  },
  {
   "cell_type": "markdown",
   "metadata": {},
   "source": [
    "O problema desse tipo de criptografia é que a frequência das letras em cada língua é bastante diferente. A letra \"A\", por exemplo, aparece em muito mais palavras em português que a letra \"Z\". Então, se um número suficiente de mensagens for interceptado, podemos analisar as frequências das letras e descobrir que foi a regra de substituição que foi usada.\n",
    "\n",
    "Durante a Segunda Guerra Mundial, o exército alemão passou a usar um tipo de cifra que foi implementado nas [máquinas Enigma](https://pt.wikipedia.org/wiki/Enigma_(m%C3%A1quina)). As máquinas enigma passam o alfabeto cifrado por um segundo processo de cifra a cada novo caractere cifrado. Então, o algoritmo funcionaria da seguinte forma:\n"
   ]
  },
  {
   "cell_type": "code",
   "execution_count": 20,
   "metadata": {},
   "outputs": [
    {
     "name": "stdout",
     "output_type": "stream",
     "text": [
      "oirkcysrlnxjwhlda evistzfakouikdo ozdibqdntrhswccsojr\n"
     ]
    }
   ],
   "source": [
    "alfabeto_normal = \"abcdefghijklmnopqrstuvwxyz \"\n",
    "alfabeto_cifrado = \"bcdefghijkl mnopqrstuvwxyza\"\n",
    "cifrador_auxiliar = \"ijkl mnopqrstuvwxyzabcdefgh\"\n",
    "mensagem_entrada = \"o bolo de chocolate fica pronto quatro horas da tarde\"\n",
    "\n",
    "def enigma(mensagem_entrada, alfabeto_normal, alfabeto_cifrado, cifrador_auxiliar):\n",
    "    mensagem_cifrada = \"\"\n",
    "    for i in range(len(mensagem_entrada)):\n",
    "        c = mensagem_entrada[i]\n",
    "        idx = alfabeto_normal.index(c)\n",
    "        mensagem_cifrada += alfabeto_cifrado[idx]\n",
    "        alfabeto_cifrado = cifrar(alfabeto_cifrado, alfabeto_normal, cifrador_auxiliar)\n",
    "    return mensagem_cifrada\n",
    "\n",
    "mensagem_cifrada = enigma(mensagem_entrada, alfabeto_normal, alfabeto_cifrado, cifrador_auxiliar)\n",
    "\n",
    "print(mensagem_cifrada)"
   ]
  },
  {
   "cell_type": "markdown",
   "metadata": {},
   "source": [
    "Neste trabalho, vamos implementar a máquina Enigma usando ferramentas de álgebra linear.\n",
    "\n",
    "## Representando caracteres como vetores: *one-hot encoding*\n",
    "\n",
    "Uma maneira de representar um caractere é como uma matriz-coluna. Essa matriz tem tantas linhas quantas forem os caracteres possíveis no seu alfabeto. Todos os seus elementos são iguais a zero, exceto por aquele que corresponde ao caractere que está sendo representado. Poderíamos, por exemplo, representar um alfabeto de três letras usando:\n",
    "\n",
    "\n",
    "$$\n",
    "A =\n",
    "\\begin{bmatrix}\n",
    "    1 \\\\\n",
    "    0 \\\\\n",
    "    0\n",
    "\\end{bmatrix}\n",
    "\\hspace{0.5in}\n",
    "\n",
    "B =\n",
    "\\begin{bmatrix}\n",
    "    0 \\\\\n",
    "    1 \\\\\n",
    "    0\n",
    "\\end{bmatrix}\n",
    "\\hspace{0.5in}\n",
    "C =\n",
    "\\begin{bmatrix}\n",
    "    0 \\\\\n",
    "    0 \\\\\n",
    "    1\n",
    "\\end{bmatrix}\n",
    "$$\n",
    "\n",
    "Então, uma mensagem pode ser representada como uma matriz $M \\in \\mathbb{R}^{N \\times T}$, onde $N$ é o número de caracteres possíveis no alfabeto e $T$ é o número de caracteres na mensagem. A mensagem \"AABBCC\" seria então representada como:\n",
    "\n",
    "$$\n",
    "M = \n",
    "\\begin{bmatrix}\n",
    "    1 &  1 & 0 & 0 & 0 & 0 \\\\\n",
    "    0 &  0 & 1 & 1 & 0 & 0 \\\\\n",
    "    0 &  0 & 0 & 0 & 1 & 1 \n",
    "\\end{bmatrix}\n",
    "$$\n",
    "\n",
    "## Fazendo uma cifra usando uma multiplicação matricial\n",
    "É claro que, se multiplicamos a matriz $M$ por uma matriz identidade $I$, encontramos a própria matriz $M$:\n",
    "$$\n",
    "\\begin{bmatrix}\n",
    "1 & 0 & 0 \\\\\n",
    "0 & 1 & 0 \\\\\n",
    "0 & 0 & 1\n",
    "\\end{bmatrix}\n",
    "\\begin{bmatrix}\n",
    "    1 &  1 & 0 & 0 & 0 & 0 \\\\\n",
    "    0 &  0 & 1 & 1 & 0 & 0 \\\\\n",
    "    0 &  0 & 0 & 0 & 1 & 1 \n",
    "\\end{bmatrix}\n",
    "= \n",
    "\\begin{bmatrix}\n",
    "    1 &  1 & 0 & 0 & 0 & 0 \\\\\n",
    "    0 &  0 & 1 & 1 & 0 & 0 \\\\\n",
    "    0 &  0 & 0 & 0 & 1 & 1 \n",
    "\\end{bmatrix}\n",
    "$$\n",
    "\n",
    "Porém, veja o que acontece quando permutamos as linhas da matriz $I$ (que, claro, deixa de ser uma matriz identidade e passa a ser uma matriz de permutação $P$):\n",
    "\n",
    "$$\n",
    "\\begin{bmatrix}\n",
    "0 & 0 & 1 \\\\\n",
    "1 & 0 & 0 \\\\\n",
    "0 & 1 & 0 \n",
    "\\end{bmatrix}\n",
    "\\begin{bmatrix}\n",
    "    1 &  1 & 0 & 0 & 0 & 0 \\\\\n",
    "    0 &  0 & 1 & 1 & 0 & 0 \\\\\n",
    "    0 &  0 & 0 & 0 & 1 & 1 \n",
    "\\end{bmatrix}\n",
    "= \n",
    "\\begin{bmatrix}\n",
    "    0 &  0 & 0 & 0 & 1 & 1 \\\\\n",
    "    1 &  1 & 0 & 0 & 0 & 0 \\\\\n",
    "    0 &  0 & 1 & 1 & 0 & 0 \n",
    "\\end{bmatrix}\n",
    "$$\n",
    "\n",
    "Isso nos dá uma maneira bastante compacta de encontrar mensagens cifradas, e também um processo rápido para voltar à mensagem original:\n",
    "\n",
    "$\n",
    "\\begin{aligned}\n",
    "P M & = M_c \\\\\n",
    "P^{-1} P M & = P^{-1} M_c \\\\\n",
    "I M & = P^{-1} M_c \\\\\n",
    "M & = P^{-1} M_c\n",
    "\\end{aligned}\n",
    "$\n",
    "\n",
    "\n",
    "## Descrição do projeto\n",
    "Neste projeto, faremos uma biblioteca Python para criptografia usando Enigma\n",
    "\n",
    "A biblioteca deve conter:\n",
    "* Uma função `para_one_hot(msg : str)` para codificar mensagens como uma matriz usando one-hot encoding\n",
    "* Uma função `para_string(M : np.array)` para converter mensagens da representação one-hot encoding para uma string legível\n",
    "* Uma função `cifrar(msg : str, P : np.array)` que aplica uma cifra simples em uma mensagem recebida como entrada e retorna a mensagem cifrada. `P` é a matriz de permutação que realiza a cifra.\n",
    "* Uma função `de_cifrar(msg : str, P : np.array)` que recupera uma mensagem cifrada, recebida como entrada, e retorna a mensagem original. `P` é a matriz de permutação que realiza a cifra.\n",
    "* Uma função `enigma(msg : str, P : np.array, E : np.array)` que faz a cifra enigma na mensagem de entrada usando o cifrador `P` e o cifrador auxiliar `E`, ambos representados como matrizes de permutação.\n",
    "* Uma função `de_enigma(msg : str, P : np.array, E : np.array)` que recupera uma mensagem cifrada como enigma assumindo que ela foi cifrada com o usando o cifrador `P` e o cifrador auxiliar `E`, ambos representados como matrizes de permutação.\n",
    "\n",
    "Anotações importantes:\n",
    "\n",
    "1. O grupo deve enviar um link para o repositório GitHub onde está localizada a biblioteca.\n",
    "2. No diretório principal do repositório, deve haver um programa `demo.py`, que, quando executado, demonstra o funcionamento de cada uma das funções da biblioteca\n",
    "\n",
    "\n",
    "**ENTREGAS**\n",
    "* Link para o repositório onde está a biblioteca.\n",
    "* No `README.md` do repositório, deve haver uma discussão sobre que equações foram implementadas para realizar a criptografia e a de-criptografia com Enigma.\n",
    "* Inclua também, no próprio `README.md`, instruções sobre como rodar o `demo.py` e como usar a biblioteca.\n",
    "* Também, inclua instruções sobre como executar procedimentos de teste rápidos. Serão testados: mensagens normais, mensagens com caracteres que não fazem parte do alfabeto, mensagens vazias.\n",
    "\n",
    "**RUBRICA**\n",
    "\n",
    "O projeto será avaliado usando a rubrica abaixo. Os níveis são cumulativos, isto é, para passar de um nível, *todos* os requisitos dele devem ser cumpridos. As rubricas foram inspiradas nos níveis da [Taxonomia de Bloom](https://cft.vanderbilt.edu/guides-sub-pages/blooms-taxonomy/).\n",
    "\n",
    "| Nível | Descrição | [Tax. de Bloom](https://cft.vanderbilt.edu/guides-sub-pages/blooms-taxonomy/) |\n",
    "| --- | --- | --- |\n",
    "| F | Não entregue, entregue sem completar o `README.md`, ou entregue sem implementar a criptografia Enigma | Não fez |\n",
    "| E | Entregue, mas o `README.md` não indica como instalar ou rodar o programa. | Entender (-) |\n",
    "| D | Roda com alguns travamentos ou erros ou o `README.md` não descreve o modelo matemático que foi aplicado. | Entender |\n",
    "| C | Funciona sem travar e o `README.md` está completo, mas falha nos casos de teste descritos na entrega. | Compreender |\n",
    "| B | A biblioteca funciona bem mas o código está muito confuso e sem comentários. | Aplicar |\n",
    "| A | A biblioteca obedece a todos os requisitos e o código tem uma correspondência imediata ao modelo matemático descrito no `README.md` | Analisar |\n",
    "| A+ | A biblioteca funciona perfeitamente e, em adição aos requisitos pedidos, tem um programa que permite que o algoritmo seja executado como uma API REST. | Analisar |\n",
    "| A++ | A biblioteca funciona perfeitamente e, em adição aos requisitos anteriores, pode ser instalada usando `pip install .`. | Analisar |"
   ]
  }
 ],
 "metadata": {
  "kernelspec": {
   "display_name": "Python 3",
   "language": "python",
   "name": "python3"
  },
  "language_info": {
   "codemirror_mode": {
    "name": "ipython",
    "version": 3
   },
   "file_extension": ".py",
   "mimetype": "text/x-python",
   "name": "python",
   "nbconvert_exporter": "python",
   "pygments_lexer": "ipython3",
   "version": "3.10.3"
  },
  "orig_nbformat": 4,
  "vscode": {
   "interpreter": {
    "hash": "f93bff822687b96a1f2d7798e86ce2bae52c1bd6ece06dfb8c6e65b6bce06fb2"
   }
  }
 },
 "nbformat": 4,
 "nbformat_minor": 2
}
